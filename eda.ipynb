{
  "nbformat": 4,
  "nbformat_minor": 0,
  "metadata": {
    "colab": {
      "name": "EDA.ipynb",
      "provenance": [],
      "collapsed_sections": []
    },
    "kernelspec": {
      "name": "python3",
      "display_name": "Python 3"
    },
    "language_info": {
      "name": "python"
    }
  },
  "cells": [
    {
      "cell_type": "code",
      "source": [
        "import pandas as pd\n",
        "import numpy as np\n",
        "import random\n",
        "import numpy\n",
        "from matplotlib import pyplot as plt\n",
        "import seaborn \n",
        "from IPython import display"
      ],
      "metadata": {
        "id": "pkEXQfMUupzq"
      },
      "execution_count": 132,
      "outputs": []
    },
    {
      "cell_type": "code",
      "execution_count": 186,
      "metadata": {
        "id": "1dKToEdyo3vY"
      },
      "outputs": [],
      "source": [
        "accounts_df = pd.read_csv('clean_account.csv', sep=',')\n",
        "cards_df = pd.read_csv('clean_card.csv', sep=',')\n",
        "clients_df = pd.read_csv('clean_client.csv', sep=',')\n",
        "dispos_df = pd.read_csv('clean_disp.csv', sep=',')\n",
        "district_df = pd.read_csv('clean_district.csv', sep=',')\n",
        "loan_df = pd.read_csv('clean_loan.csv', sep=',')\n",
        "order_df = pd.read_csv('clean_order.csv', sep=',')\n",
        "trans_df = pd.read_csv('clean_trans.csv', sep=',', engine='python')"
      ]
    },
    {
      "cell_type": "markdown",
      "source": [
        "Relation \"**client**\" describes characteristics of persons who can manipulate with the accounts. More clients can manipulate with single account; clients and accounts are related together in relation \"**disposition**\". \n",
        "\n",
        "Each account has both static characteristics (e.g. date of creation, address of the branch) given in relation \"**account**\" and dynamic characteristics (e.g. payments debited or credited, balances) given in relations \"**permanent order**\" and \"**transaction**\". \n",
        "\n",
        "\n",
        "Relations \"**loan**\" and \"**credit card**\" describe some services which the bank offers to its clients; more credit cards can be issued to an account, at most one loan can be granted for an account. \n",
        "\n",
        "Relation \"**demographic data**\" gives some publicly available information about the districts (e.g. the unemployment rate); additional information about the clients can be deduced from this."
      ],
      "metadata": {
        "id": "po1UoMJ2z11E"
      }
    },
    {
      "cell_type": "markdown",
      "source": [
        "# **Client**"
      ],
      "metadata": {
        "id": "hvsQfYeo1a0y"
      }
    },
    {
      "cell_type": "markdown",
      "source": [
        "**Number of Account/Client, Number of Client/Account**"
      ],
      "metadata": {
        "id": "1JiV6sEMwXD3"
      }
    },
    {
      "cell_type": "code",
      "source": [
        "# All the Client only has one account\n",
        "num_acc_each_user = dispos_df.groupby(['client_id'])['account_id'].count()\n",
        "num_acc_each_user.plot.hist()"
      ],
      "metadata": {
        "colab": {
          "base_uri": "https://localhost:8080/",
          "height": 282
        },
        "id": "MsRUme9M3JVV",
        "outputId": "7bea5358-dd93-475e-ed8c-04cb8f2a2399"
      },
      "execution_count": 9,
      "outputs": [
        {
          "output_type": "execute_result",
          "data": {
            "text/plain": [
              "<matplotlib.axes._subplots.AxesSubplot at 0x7fa323d3c2d0>"
            ]
          },
          "metadata": {},
          "execution_count": 9
        },
        {
          "output_type": "display_data",
          "data": {
            "image/png": "[encoded data removed]",
            "text/plain": [
              "<Figure size 432x288 with 1 Axes>"
            ]
          },
          "metadata": {
            "needs_background": "light"
          }
        }
      ]
    },
    {
      "cell_type": "code",
      "source": [
        "# Most of the account has either one or two users  \n",
        "num_user_each_acc = dispos_df.groupby(['account_id'])['client_id'].count()\n",
        "num_user_each_acc.plot.hist()"
      ],
      "metadata": {
        "id": "oCxMpKSUsPmM",
        "colab": {
          "base_uri": "https://localhost:8080/",
          "height": 282
        },
        "outputId": "88526960-3561-4ca4-cb41-5251493197eb"
      },
      "execution_count": 8,
      "outputs": [
        {
          "output_type": "execute_result",
          "data": {
            "text/plain": [
              "<matplotlib.axes._subplots.AxesSubplot at 0x7fa3241f6150>"
            ]
          },
          "metadata": {},
          "execution_count": 8
        },
        {
          "output_type": "display_data",
          "data": {
            "image/png": "[encoded data removed]",
            "text/plain": [
              "<Figure size 432x288 with 1 Axes>"
            ]
          },
          "metadata": {
            "needs_background": "light"
          }
        }
      ]
    },
    {
      "cell_type": "code",
      "source": [
        "print(f'There are {num_user_each_acc.count()} accounts in total')"
      ],
      "metadata": {
        "colab": {
          "base_uri": "https://localhost:8080/"
        },
        "id": "KOhM78BhuGcx",
        "outputId": "e95264b7-635e-48a9-bcbe-4a58c6fe2a42"
      },
      "execution_count": 65,
      "outputs": [
        {
          "output_type": "stream",
          "name": "stdout",
          "text": [
            "There are 4500 accounts in total\n"
          ]
        }
      ]
    },
    {
      "cell_type": "code",
      "source": [
        "one_user = num_user_each_acc.loc[num_user_each_acc == 1].count()\n",
        "two_user = num_user_each_acc.loc[num_user_each_acc == 2].count()\n",
        "one_user_ratio = round((one_user/(one_user + two_user) * 100), 2)\n",
        "two_user_ratio = round(100 - one_user_ratio, 2)\n",
        "print(f'Check again that we have {one_user + two_user} accounts')\n",
        "print(f'{one_user_ratio}% of them have one account, {two_user_ratio}% have two users')"
      ],
      "metadata": {
        "id": "UT21ENBuur8k",
        "colab": {
          "base_uri": "https://localhost:8080/"
        },
        "outputId": "9dfb5abf-3414-4411-8328-c2c9f18c2b73"
      },
      "execution_count": 71,
      "outputs": [
        {
          "output_type": "stream",
          "name": "stdout",
          "text": [
            "Check again that we have 4500 accounts\n",
            "80.69% of them have one account, 19.31% have two users\n"
          ]
        }
      ]
    },
    {
      "cell_type": "code",
      "source": [
        "num_user_each_acc = dispos_df.groupby(['client_id'])['account_id'].count()\n",
        "num_user_each_acc.plot.hist()"
      ],
      "metadata": {
        "colab": {
          "base_uri": "https://localhost:8080/",
          "height": 282
        },
        "id": "-404Xx9X0g2S",
        "outputId": "2ca70944-89c0-4e09-e853-62d7a59e53f7"
      },
      "execution_count": 7,
      "outputs": [
        {
          "output_type": "execute_result",
          "data": {
            "text/plain": [
              "<matplotlib.axes._subplots.AxesSubplot at 0x7fa3240ccd90>"
            ]
          },
          "metadata": {},
          "execution_count": 7
        },
        {
          "output_type": "display_data",
          "data": {
            "image/png": "[encoded data removed]",
            "text/plain": [
              "<Figure size 432x288 with 1 Axes>"
            ]
          },
          "metadata": {
            "needs_background": "light"
          }
        }
      ]
    },
    {
      "cell_type": "markdown",
      "source": [
        "**Client Age Distribution**"
      ],
      "metadata": {
        "id": "USYlEQdhwQ4F"
      }
    },
    {
      "cell_type": "code",
      "source": [
        "clients_df_male = clients_df.loc[clients_df['gender'] != 1]\n",
        "clients_df_female = clients_df.loc[clients_df['gender'] != 0]\n",
        "\n",
        "bins = numpy.linspace(0, 100, 100)\n",
        "\n",
        "plt.hist(np.array([clients_df_female['age'], clients_df_male['age']], dtype=object), \n",
        "         label=['male', 'female'], bins=bins, alpha=0.5, stacked=True)\n",
        "plt.legend(loc='upper right')\n",
        "plt.show()"
      ],
      "metadata": {
        "id": "dzMDmR-fur-r",
        "colab": {
          "base_uri": "https://localhost:8080/",
          "height": 265
        },
        "outputId": "07824472-0f28-45c7-9c99-a4ae064c365b"
      },
      "execution_count": 26,
      "outputs": [
        {
          "output_type": "display_data",
          "data": {
            "image/png": "[encoded data removed]",
            "text/plain": [
              "<Figure size 432x288 with 1 Axes>"
            ]
          },
          "metadata": {
            "needs_background": "light"
          }
        }
      ]
    },
    {
      "cell_type": "code",
      "source": [
        "clients_df"
      ],
      "metadata": {
        "colab": {
          "base_uri": "https://localhost:8080/",
          "height": 424
        },
        "id": "RQi_npBm4tNB",
        "outputId": "50b5af36-3571-49a2-c41e-e79d9c7cb70d"
      },
      "execution_count": 17,
      "outputs": [
        {
          "output_type": "execute_result",
          "data": {
            "text/html": [
              "\n",
              "  <div id=\"df-797a0c50-919c-424a-8a85-cc7bd07b1ce9\">\n",
              "    <div class=\"colab-df-container\">\n",
              "      <div>\n",
              "<style scoped>\n",
              "    .dataframe tbody tr th:only-of-type {\n",
              "        vertical-align: middle;\n",
              "    }\n",
              "\n",
              "    .dataframe tbody tr th {\n",
              "        vertical-align: top;\n",
              "    }\n",
              "\n",
              "    .dataframe thead th {\n",
              "        text-align: right;\n",
              "    }\n",
              "</style>\n",
              "<table border=\"1\" class=\"dataframe\">\n",
              "  <thead>\n",
              "    <tr style=\"text-align: right;\">\n",
              "      <th></th>\n",
              "      <th>client_id</th>\n",
              "      <th>district_id</th>\n",
              "      <th>birth_date</th>\n",
              "      <th>gender</th>\n",
              "      <th>age</th>\n",
              "    </tr>\n",
              "  </thead>\n",
              "  <tbody>\n",
              "    <tr>\n",
              "      <th>0</th>\n",
              "      <td>1</td>\n",
              "      <td>18</td>\n",
              "      <td>1970-12-13</td>\n",
              "      <td>0.0</td>\n",
              "      <td>28</td>\n",
              "    </tr>\n",
              "    <tr>\n",
              "      <th>1</th>\n",
              "      <td>2</td>\n",
              "      <td>1</td>\n",
              "      <td>1945-02-04</td>\n",
              "      <td>1.0</td>\n",
              "      <td>53</td>\n",
              "    </tr>\n",
              "    <tr>\n",
              "      <th>2</th>\n",
              "      <td>3</td>\n",
              "      <td>1</td>\n",
              "      <td>1940-10-09</td>\n",
              "      <td>0.0</td>\n",
              "      <td>58</td>\n",
              "    </tr>\n",
              "    <tr>\n",
              "      <th>3</th>\n",
              "      <td>4</td>\n",
              "      <td>5</td>\n",
              "      <td>1956-12-01</td>\n",
              "      <td>1.0</td>\n",
              "      <td>42</td>\n",
              "    </tr>\n",
              "    <tr>\n",
              "      <th>4</th>\n",
              "      <td>5</td>\n",
              "      <td>5</td>\n",
              "      <td>1960-07-03</td>\n",
              "      <td>0.0</td>\n",
              "      <td>38</td>\n",
              "    </tr>\n",
              "    <tr>\n",
              "      <th>...</th>\n",
              "      <td>...</td>\n",
              "      <td>...</td>\n",
              "      <td>...</td>\n",
              "      <td>...</td>\n",
              "      <td>...</td>\n",
              "    </tr>\n",
              "    <tr>\n",
              "      <th>5364</th>\n",
              "      <td>13955</td>\n",
              "      <td>1</td>\n",
              "      <td>1945-10-30</td>\n",
              "      <td>0.0</td>\n",
              "      <td>53</td>\n",
              "    </tr>\n",
              "    <tr>\n",
              "      <th>5365</th>\n",
              "      <td>13956</td>\n",
              "      <td>1</td>\n",
              "      <td>1943-04-06</td>\n",
              "      <td>1.0</td>\n",
              "      <td>55</td>\n",
              "    </tr>\n",
              "    <tr>\n",
              "      <th>5366</th>\n",
              "      <td>13968</td>\n",
              "      <td>61</td>\n",
              "      <td>1968-04-13</td>\n",
              "      <td>1.0</td>\n",
              "      <td>30</td>\n",
              "    </tr>\n",
              "    <tr>\n",
              "      <th>5367</th>\n",
              "      <td>13971</td>\n",
              "      <td>67</td>\n",
              "      <td>1962-10-19</td>\n",
              "      <td>0.0</td>\n",
              "      <td>36</td>\n",
              "    </tr>\n",
              "    <tr>\n",
              "      <th>5368</th>\n",
              "      <td>13998</td>\n",
              "      <td>74</td>\n",
              "      <td>1953-08-12</td>\n",
              "      <td>0.0</td>\n",
              "      <td>45</td>\n",
              "    </tr>\n",
              "  </tbody>\n",
              "</table>\n",
              "<p>5369 rows × 5 columns</p>\n",
              "</div>\n",
              "      <button class=\"colab-df-convert\" onclick=\"convertToInteractive('df-797a0c50-919c-424a-8a85-cc7bd07b1ce9')\"\n",
              "              title=\"Convert this dataframe to an interactive table.\"\n",
              "              style=\"display:none;\">\n",
              "        \n",
              "  <svg xmlns=\"http://www.w3.org/2000/svg\" height=\"24px\"viewBox=\"0 0 24 24\"\n",
              "       width=\"24px\">\n",
              "    <path d=\"M0 0h24v24H0V0z\" fill=\"none\"/>\n",
              "    <path d=\"M18.56 5.44l.94 2.06.94-2.06 2.06-.94-2.06-.94-.94-2.06-.94 2.06-2.06.94zm-11 1L8.5 8.5l.94-2.06 2.06-.94-2.06-.94L8.5 2.5l-.94 2.06-2.06.94zm10 10l.94 2.06.94-2.06 2.06-.94-2.06-.94-.94-2.06-.94 2.06-2.06.94z\"/><path d=\"M17.41 7.96l-1.37-1.37c-.4-.4-.92-.59-1.43-.59-.52 0-1.04.2-1.43.59L10.3 9.45l-7.72 7.72c-.78.78-.78 2.05 0 2.83L4 21.41c.39.39.9.59 1.41.59.51 0 1.02-.2 1.41-.59l7.78-7.78 2.81-2.81c.8-.78.8-2.07 0-2.86zM5.41 20L4 18.59l7.72-7.72 1.47 1.35L5.41 20z\"/>\n",
              "  </svg>\n",
              "      </button>\n",
              "      \n",
              "  <style>\n",
              "    .colab-df-container {\n",
              "      display:flex;\n",
              "      flex-wrap:wrap;\n",
              "      gap: 12px;\n",
              "    }\n",
              "\n",
              "    .colab-df-convert {\n",
              "      background-color: #E8F0FE;\n",
              "      border: none;\n",
              "      border-radius: 50%;\n",
              "      cursor: pointer;\n",
              "      display: none;\n",
              "      fill: #1967D2;\n",
              "      height: 32px;\n",
              "      padding: 0 0 0 0;\n",
              "      width: 32px;\n",
              "    }\n",
              "\n",
              "    .colab-df-convert:hover {\n",
              "      background-color: #E2EBFA;\n",
              "      box-shadow: 0px 1px 2px rgba(60, 64, 67, 0.3), 0px 1px 3px 1px rgba(60, 64, 67, 0.15);\n",
              "      fill: #174EA6;\n",
              "    }\n",
              "\n",
              "    [theme=dark] .colab-df-convert {\n",
              "      background-color: #3B4455;\n",
              "      fill: #D2E3FC;\n",
              "    }\n",
              "\n",
              "    [theme=dark] .colab-df-convert:hover {\n",
              "      background-color: #434B5C;\n",
              "      box-shadow: 0px 1px 3px 1px rgba(0, 0, 0, 0.15);\n",
              "      filter: drop-shadow(0px 1px 2px rgba(0, 0, 0, 0.3));\n",
              "      fill: #FFFFFF;\n",
              "    }\n",
              "  </style>\n",
              "\n",
              "      <script>\n",
              "        const buttonEl =\n",
              "          document.querySelector('#df-797a0c50-919c-424a-8a85-cc7bd07b1ce9 button.colab-df-convert');\n",
              "        buttonEl.style.display =\n",
              "          google.colab.kernel.accessAllowed ? 'block' : 'none';\n",
              "\n",
              "        async function convertToInteractive(key) {\n",
              "          const element = document.querySelector('#df-797a0c50-919c-424a-8a85-cc7bd07b1ce9');\n",
              "          const dataTable =\n",
              "            await google.colab.kernel.invokeFunction('convertToInteractive',\n",
              "                                                     [key], {});\n",
              "          if (!dataTable) return;\n",
              "\n",
              "          const docLinkHtml = 'Like what you see? Visit the ' +\n",
              "            '<a target=\"_blank\" href=https://colab.research.google.com/notebooks/data_table.ipynb>data table notebook</a>'\n",
              "            + ' to learn more about interactive tables.';\n",
              "          element.innerHTML = '';\n",
              "          dataTable['output_type'] = 'display_data';\n",
              "          await google.colab.output.renderOutput(dataTable, element);\n",
              "          const docLink = document.createElement('div');\n",
              "          docLink.innerHTML = docLinkHtml;\n",
              "          element.appendChild(docLink);\n",
              "        }\n",
              "      </script>\n",
              "    </div>\n",
              "  </div>\n",
              "  "
            ],
            "text/plain": [
              "      client_id  district_id  birth_date  gender  age\n",
              "0             1           18  1970-12-13     0.0   28\n",
              "1             2            1  1945-02-04     1.0   53\n",
              "2             3            1  1940-10-09     0.0   58\n",
              "3             4            5  1956-12-01     1.0   42\n",
              "4             5            5  1960-07-03     0.0   38\n",
              "...         ...          ...         ...     ...  ...\n",
              "5364      13955            1  1945-10-30     0.0   53\n",
              "5365      13956            1  1943-04-06     1.0   55\n",
              "5366      13968           61  1968-04-13     1.0   30\n",
              "5367      13971           67  1962-10-19     0.0   36\n",
              "5368      13998           74  1953-08-12     0.0   45\n",
              "\n",
              "[5369 rows x 5 columns]"
            ]
          },
          "metadata": {},
          "execution_count": 17
        }
      ]
    },
    {
      "cell_type": "code",
      "source": [
        "# join customer info with district info   \n",
        "clients_df_copy = clients_df.copy()\n",
        "clients_dist_df = clients_df_copy.merge(district_df, left_on='district_id', \n",
        "                              right_on='district_identifier', how='left', \n",
        "                              validate='many_to_one') \n",
        "clients_dist_df.head()"
      ],
      "metadata": {
        "colab": {
          "base_uri": "https://localhost:8080/",
          "height": 340
        },
        "id": "he9nrH-M5HZc",
        "outputId": "6746d81a-7ee1-46ce-a667-68b31130d2c8"
      },
      "execution_count": 20,
      "outputs": [
        {
          "output_type": "execute_result",
          "data": {
            "text/html": [
              "\n",
              "  <div id=\"df-0955787b-0bb8-4727-ad36-ff632b9780ea\">\n",
              "    <div class=\"colab-df-container\">\n",
              "      <div>\n",
              "<style scoped>\n",
              "    .dataframe tbody tr th:only-of-type {\n",
              "        vertical-align: middle;\n",
              "    }\n",
              "\n",
              "    .dataframe tbody tr th {\n",
              "        vertical-align: top;\n",
              "    }\n",
              "\n",
              "    .dataframe thead th {\n",
              "        text-align: right;\n",
              "    }\n",
              "</style>\n",
              "<table border=\"1\" class=\"dataframe\">\n",
              "  <thead>\n",
              "    <tr style=\"text-align: right;\">\n",
              "      <th></th>\n",
              "      <th>client_id</th>\n",
              "      <th>district_id</th>\n",
              "      <th>birth_date</th>\n",
              "      <th>gender</th>\n",
              "      <th>age</th>\n",
              "      <th>district_identifier</th>\n",
              "      <th>district_name</th>\n",
              "      <th>region_name</th>\n",
              "      <th>inhabitants_number</th>\n",
              "      <th>number_of_municipalities_with_&lt;499_inhabitants</th>\n",
              "      <th>number_of_municipalities_with_500-1499_inhabitants</th>\n",
              "      <th>number_of_municipalities_with_2000-9999_inhabitants</th>\n",
              "      <th>number_of_municipalities_with_&gt;10000_inhabitants</th>\n",
              "      <th>city_number</th>\n",
              "      <th>urban_inhabitants_ratio</th>\n",
              "      <th>average salary</th>\n",
              "      <th>1995_unemployment_rate</th>\n",
              "      <th>1996_unemployment_rate</th>\n",
              "      <th>entrepreneurs_per_1000_inhabitants</th>\n",
              "      <th>crimes_committed_number_in_1995</th>\n",
              "      <th>crimes_committed_number_in_1996</th>\n",
              "    </tr>\n",
              "  </thead>\n",
              "  <tbody>\n",
              "    <tr>\n",
              "      <th>0</th>\n",
              "      <td>1</td>\n",
              "      <td>18</td>\n",
              "      <td>1970-12-13</td>\n",
              "      <td>0.0</td>\n",
              "      <td>28</td>\n",
              "      <td>18</td>\n",
              "      <td>Pisek</td>\n",
              "      <td>south Bohemia</td>\n",
              "      <td>70699</td>\n",
              "      <td>60</td>\n",
              "      <td>13</td>\n",
              "      <td>2</td>\n",
              "      <td>1</td>\n",
              "      <td>4</td>\n",
              "      <td>65.3</td>\n",
              "      <td>8968</td>\n",
              "      <td>2.83</td>\n",
              "      <td>3.35</td>\n",
              "      <td>131</td>\n",
              "      <td>1740</td>\n",
              "      <td>1910</td>\n",
              "    </tr>\n",
              "    <tr>\n",
              "      <th>1</th>\n",
              "      <td>2</td>\n",
              "      <td>1</td>\n",
              "      <td>1945-02-04</td>\n",
              "      <td>1.0</td>\n",
              "      <td>53</td>\n",
              "      <td>1</td>\n",
              "      <td>Hl.m. Praha</td>\n",
              "      <td>Prague</td>\n",
              "      <td>1204953</td>\n",
              "      <td>0</td>\n",
              "      <td>0</td>\n",
              "      <td>0</td>\n",
              "      <td>1</td>\n",
              "      <td>1</td>\n",
              "      <td>100.0</td>\n",
              "      <td>12541</td>\n",
              "      <td>0.29</td>\n",
              "      <td>0.43</td>\n",
              "      <td>167</td>\n",
              "      <td>85677</td>\n",
              "      <td>99107</td>\n",
              "    </tr>\n",
              "    <tr>\n",
              "      <th>2</th>\n",
              "      <td>3</td>\n",
              "      <td>1</td>\n",
              "      <td>1940-10-09</td>\n",
              "      <td>0.0</td>\n",
              "      <td>58</td>\n",
              "      <td>1</td>\n",
              "      <td>Hl.m. Praha</td>\n",
              "      <td>Prague</td>\n",
              "      <td>1204953</td>\n",
              "      <td>0</td>\n",
              "      <td>0</td>\n",
              "      <td>0</td>\n",
              "      <td>1</td>\n",
              "      <td>1</td>\n",
              "      <td>100.0</td>\n",
              "      <td>12541</td>\n",
              "      <td>0.29</td>\n",
              "      <td>0.43</td>\n",
              "      <td>167</td>\n",
              "      <td>85677</td>\n",
              "      <td>99107</td>\n",
              "    </tr>\n",
              "    <tr>\n",
              "      <th>3</th>\n",
              "      <td>4</td>\n",
              "      <td>5</td>\n",
              "      <td>1956-12-01</td>\n",
              "      <td>1.0</td>\n",
              "      <td>42</td>\n",
              "      <td>5</td>\n",
              "      <td>Kolin</td>\n",
              "      <td>central Bohemia</td>\n",
              "      <td>95616</td>\n",
              "      <td>65</td>\n",
              "      <td>30</td>\n",
              "      <td>4</td>\n",
              "      <td>1</td>\n",
              "      <td>6</td>\n",
              "      <td>51.4</td>\n",
              "      <td>9307</td>\n",
              "      <td>3.85</td>\n",
              "      <td>4.43</td>\n",
              "      <td>118</td>\n",
              "      <td>2616</td>\n",
              "      <td>3040</td>\n",
              "    </tr>\n",
              "    <tr>\n",
              "      <th>4</th>\n",
              "      <td>5</td>\n",
              "      <td>5</td>\n",
              "      <td>1960-07-03</td>\n",
              "      <td>0.0</td>\n",
              "      <td>38</td>\n",
              "      <td>5</td>\n",
              "      <td>Kolin</td>\n",
              "      <td>central Bohemia</td>\n",
              "      <td>95616</td>\n",
              "      <td>65</td>\n",
              "      <td>30</td>\n",
              "      <td>4</td>\n",
              "      <td>1</td>\n",
              "      <td>6</td>\n",
              "      <td>51.4</td>\n",
              "      <td>9307</td>\n",
              "      <td>3.85</td>\n",
              "      <td>4.43</td>\n",
              "      <td>118</td>\n",
              "      <td>2616</td>\n",
              "      <td>3040</td>\n",
              "    </tr>\n",
              "  </tbody>\n",
              "</table>\n",
              "</div>\n",
              "      <button class=\"colab-df-convert\" onclick=\"convertToInteractive('df-0955787b-0bb8-4727-ad36-ff632b9780ea')\"\n",
              "              title=\"Convert this dataframe to an interactive table.\"\n",
              "              style=\"display:none;\">\n",
              "        \n",
              "  <svg xmlns=\"http://www.w3.org/2000/svg\" height=\"24px\"viewBox=\"0 0 24 24\"\n",
              "       width=\"24px\">\n",
              "    <path d=\"M0 0h24v24H0V0z\" fill=\"none\"/>\n",
              "    <path d=\"M18.56 5.44l.94 2.06.94-2.06 2.06-.94-2.06-.94-.94-2.06-.94 2.06-2.06.94zm-11 1L8.5 8.5l.94-2.06 2.06-.94-2.06-.94L8.5 2.5l-.94 2.06-2.06.94zm10 10l.94 2.06.94-2.06 2.06-.94-2.06-.94-.94-2.06-.94 2.06-2.06.94z\"/><path d=\"M17.41 7.96l-1.37-1.37c-.4-.4-.92-.59-1.43-.59-.52 0-1.04.2-1.43.59L10.3 9.45l-7.72 7.72c-.78.78-.78 2.05 0 2.83L4 21.41c.39.39.9.59 1.41.59.51 0 1.02-.2 1.41-.59l7.78-7.78 2.81-2.81c.8-.78.8-2.07 0-2.86zM5.41 20L4 18.59l7.72-7.72 1.47 1.35L5.41 20z\"/>\n",
              "  </svg>\n",
              "      </button>\n",
              "      \n",
              "  <style>\n",
              "    .colab-df-container {\n",
              "      display:flex;\n",
              "      flex-wrap:wrap;\n",
              "      gap: 12px;\n",
              "    }\n",
              "\n",
              "    .colab-df-convert {\n",
              "      background-color: #E8F0FE;\n",
              "      border: none;\n",
              "      border-radius: 50%;\n",
              "      cursor: pointer;\n",
              "      display: none;\n",
              "      fill: #1967D2;\n",
              "      height: 32px;\n",
              "      padding: 0 0 0 0;\n",
              "      width: 32px;\n",
              "    }\n",
              "\n",
              "    .colab-df-convert:hover {\n",
              "      background-color: #E2EBFA;\n",
              "      box-shadow: 0px 1px 2px rgba(60, 64, 67, 0.3), 0px 1px 3px 1px rgba(60, 64, 67, 0.15);\n",
              "      fill: #174EA6;\n",
              "    }\n",
              "\n",
              "    [theme=dark] .colab-df-convert {\n",
              "      background-color: #3B4455;\n",
              "      fill: #D2E3FC;\n",
              "    }\n",
              "\n",
              "    [theme=dark] .colab-df-convert:hover {\n",
              "      background-color: #434B5C;\n",
              "      box-shadow: 0px 1px 3px 1px rgba(0, 0, 0, 0.15);\n",
              "      filter: drop-shadow(0px 1px 2px rgba(0, 0, 0, 0.3));\n",
              "      fill: #FFFFFF;\n",
              "    }\n",
              "  </style>\n",
              "\n",
              "      <script>\n",
              "        const buttonEl =\n",
              "          document.querySelector('#df-0955787b-0bb8-4727-ad36-ff632b9780ea button.colab-df-convert');\n",
              "        buttonEl.style.display =\n",
              "          google.colab.kernel.accessAllowed ? 'block' : 'none';\n",
              "\n",
              "        async function convertToInteractive(key) {\n",
              "          const element = document.querySelector('#df-0955787b-0bb8-4727-ad36-ff632b9780ea');\n",
              "          const dataTable =\n",
              "            await google.colab.kernel.invokeFunction('convertToInteractive',\n",
              "                                                     [key], {});\n",
              "          if (!dataTable) return;\n",
              "\n",
              "          const docLinkHtml = 'Like what you see? Visit the ' +\n",
              "            '<a target=\"_blank\" href=https://colab.research.google.com/notebooks/data_table.ipynb>data table notebook</a>'\n",
              "            + ' to learn more about interactive tables.';\n",
              "          element.innerHTML = '';\n",
              "          dataTable['output_type'] = 'display_data';\n",
              "          await google.colab.output.renderOutput(dataTable, element);\n",
              "          const docLink = document.createElement('div');\n",
              "          docLink.innerHTML = docLinkHtml;\n",
              "          element.appendChild(docLink);\n",
              "        }\n",
              "      </script>\n",
              "    </div>\n",
              "  </div>\n",
              "  "
            ],
            "text/plain": [
              "   client_id  ...  crimes_committed_number_in_1996\n",
              "0          1  ...                             1910\n",
              "1          2  ...                            99107\n",
              "2          3  ...                            99107\n",
              "3          4  ...                             3040\n",
              "4          5  ...                             3040\n",
              "\n",
              "[5 rows x 21 columns]"
            ]
          },
          "metadata": {},
          "execution_count": 20
        }
      ]
    },
    {
      "cell_type": "code",
      "source": [
        "# count the number of clients per district\n",
        "agg_dict = {'district_name': 'count',\n",
        "            'age': 'median'}\n",
        "district_clients_df = pd.DataFrame(clients_dist_df.groupby(\n",
        "                                      ['district_name',\n",
        "                                       'inhabitants_number', \n",
        "                                       'average salary',\n",
        "                                       'urban_inhabitants_ratio'],\n",
        "                                       axis=0).agg(agg_dict))\n",
        "district_clients_df.columns = ['count', 'median_age']\n",
        "district_clients_df.reset_index(inplace=True)\n",
        "\n",
        "# calculating ratio of clients in the population of a district\n",
        "district_clients_df ['client_ratio'] = (district_clients_df['count']/district_clients_df['inhabitants_number'])*100"
      ],
      "metadata": {
        "id": "uLZtfto099wv"
      },
      "execution_count": 61,
      "outputs": []
    },
    {
      "cell_type": "code",
      "source": [
        "district_clients_df.head()"
      ],
      "metadata": {
        "colab": {
          "base_uri": "https://localhost:8080/",
          "height": 250
        },
        "id": "MQpOXwCQ-_bg",
        "outputId": "0436a7d9-504c-47b7-aa79-3e4539f16b64"
      },
      "execution_count": 62,
      "outputs": [
        {
          "output_type": "execute_result",
          "data": {
            "text/html": [
              "\n",
              "  <div id=\"df-040b8ff2-3930-440b-91a8-749382f1c847\">\n",
              "    <div class=\"colab-df-container\">\n",
              "      <div>\n",
              "<style scoped>\n",
              "    .dataframe tbody tr th:only-of-type {\n",
              "        vertical-align: middle;\n",
              "    }\n",
              "\n",
              "    .dataframe tbody tr th {\n",
              "        vertical-align: top;\n",
              "    }\n",
              "\n",
              "    .dataframe thead th {\n",
              "        text-align: right;\n",
              "    }\n",
              "</style>\n",
              "<table border=\"1\" class=\"dataframe\">\n",
              "  <thead>\n",
              "    <tr style=\"text-align: right;\">\n",
              "      <th></th>\n",
              "      <th>district_name</th>\n",
              "      <th>inhabitants_number</th>\n",
              "      <th>average salary</th>\n",
              "      <th>urban_inhabitants_ratio</th>\n",
              "      <th>count</th>\n",
              "      <th>median_age</th>\n",
              "      <th>client_ratio</th>\n",
              "    </tr>\n",
              "  </thead>\n",
              "  <tbody>\n",
              "    <tr>\n",
              "      <th>0</th>\n",
              "      <td>Benesov</td>\n",
              "      <td>88884</td>\n",
              "      <td>8507</td>\n",
              "      <td>46.7</td>\n",
              "      <td>46</td>\n",
              "      <td>39.5</td>\n",
              "      <td>0.051753</td>\n",
              "    </tr>\n",
              "    <tr>\n",
              "      <th>1</th>\n",
              "      <td>Beroun</td>\n",
              "      <td>75232</td>\n",
              "      <td>8980</td>\n",
              "      <td>41.7</td>\n",
              "      <td>63</td>\n",
              "      <td>42.0</td>\n",
              "      <td>0.083741</td>\n",
              "    </tr>\n",
              "    <tr>\n",
              "      <th>2</th>\n",
              "      <td>Blansko</td>\n",
              "      <td>107911</td>\n",
              "      <td>8240</td>\n",
              "      <td>50.9</td>\n",
              "      <td>57</td>\n",
              "      <td>38.0</td>\n",
              "      <td>0.052821</td>\n",
              "    </tr>\n",
              "    <tr>\n",
              "      <th>3</th>\n",
              "      <td>Breclav</td>\n",
              "      <td>124605</td>\n",
              "      <td>8772</td>\n",
              "      <td>46.0</td>\n",
              "      <td>54</td>\n",
              "      <td>40.5</td>\n",
              "      <td>0.043337</td>\n",
              "    </tr>\n",
              "    <tr>\n",
              "      <th>4</th>\n",
              "      <td>Brno - mesto</td>\n",
              "      <td>387570</td>\n",
              "      <td>9897</td>\n",
              "      <td>100.0</td>\n",
              "      <td>155</td>\n",
              "      <td>41.0</td>\n",
              "      <td>0.039993</td>\n",
              "    </tr>\n",
              "  </tbody>\n",
              "</table>\n",
              "</div>\n",
              "      <button class=\"colab-df-convert\" onclick=\"convertToInteractive('df-040b8ff2-3930-440b-91a8-749382f1c847')\"\n",
              "              title=\"Convert this dataframe to an interactive table.\"\n",
              "              style=\"display:none;\">\n",
              "        \n",
              "  <svg xmlns=\"http://www.w3.org/2000/svg\" height=\"24px\"viewBox=\"0 0 24 24\"\n",
              "       width=\"24px\">\n",
              "    <path d=\"M0 0h24v24H0V0z\" fill=\"none\"/>\n",
              "    <path d=\"M18.56 5.44l.94 2.06.94-2.06 2.06-.94-2.06-.94-.94-2.06-.94 2.06-2.06.94zm-11 1L8.5 8.5l.94-2.06 2.06-.94-2.06-.94L8.5 2.5l-.94 2.06-2.06.94zm10 10l.94 2.06.94-2.06 2.06-.94-2.06-.94-.94-2.06-.94 2.06-2.06.94z\"/><path d=\"M17.41 7.96l-1.37-1.37c-.4-.4-.92-.59-1.43-.59-.52 0-1.04.2-1.43.59L10.3 9.45l-7.72 7.72c-.78.78-.78 2.05 0 2.83L4 21.41c.39.39.9.59 1.41.59.51 0 1.02-.2 1.41-.59l7.78-7.78 2.81-2.81c.8-.78.8-2.07 0-2.86zM5.41 20L4 18.59l7.72-7.72 1.47 1.35L5.41 20z\"/>\n",
              "  </svg>\n",
              "      </button>\n",
              "      \n",
              "  <style>\n",
              "    .colab-df-container {\n",
              "      display:flex;\n",
              "      flex-wrap:wrap;\n",
              "      gap: 12px;\n",
              "    }\n",
              "\n",
              "    .colab-df-convert {\n",
              "      background-color: #E8F0FE;\n",
              "      border: none;\n",
              "      border-radius: 50%;\n",
              "      cursor: pointer;\n",
              "      display: none;\n",
              "      fill: #1967D2;\n",
              "      height: 32px;\n",
              "      padding: 0 0 0 0;\n",
              "      width: 32px;\n",
              "    }\n",
              "\n",
              "    .colab-df-convert:hover {\n",
              "      background-color: #E2EBFA;\n",
              "      box-shadow: 0px 1px 2px rgba(60, 64, 67, 0.3), 0px 1px 3px 1px rgba(60, 64, 67, 0.15);\n",
              "      fill: #174EA6;\n",
              "    }\n",
              "\n",
              "    [theme=dark] .colab-df-convert {\n",
              "      background-color: #3B4455;\n",
              "      fill: #D2E3FC;\n",
              "    }\n",
              "\n",
              "    [theme=dark] .colab-df-convert:hover {\n",
              "      background-color: #434B5C;\n",
              "      box-shadow: 0px 1px 3px 1px rgba(0, 0, 0, 0.15);\n",
              "      filter: drop-shadow(0px 1px 2px rgba(0, 0, 0, 0.3));\n",
              "      fill: #FFFFFF;\n",
              "    }\n",
              "  </style>\n",
              "\n",
              "      <script>\n",
              "        const buttonEl =\n",
              "          document.querySelector('#df-040b8ff2-3930-440b-91a8-749382f1c847 button.colab-df-convert');\n",
              "        buttonEl.style.display =\n",
              "          google.colab.kernel.accessAllowed ? 'block' : 'none';\n",
              "\n",
              "        async function convertToInteractive(key) {\n",
              "          const element = document.querySelector('#df-040b8ff2-3930-440b-91a8-749382f1c847');\n",
              "          const dataTable =\n",
              "            await google.colab.kernel.invokeFunction('convertToInteractive',\n",
              "                                                     [key], {});\n",
              "          if (!dataTable) return;\n",
              "\n",
              "          const docLinkHtml = 'Like what you see? Visit the ' +\n",
              "            '<a target=\"_blank\" href=https://colab.research.google.com/notebooks/data_table.ipynb>data table notebook</a>'\n",
              "            + ' to learn more about interactive tables.';\n",
              "          element.innerHTML = '';\n",
              "          dataTable['output_type'] = 'display_data';\n",
              "          await google.colab.output.renderOutput(dataTable, element);\n",
              "          const docLink = document.createElement('div');\n",
              "          docLink.innerHTML = docLinkHtml;\n",
              "          element.appendChild(docLink);\n",
              "        }\n",
              "      </script>\n",
              "    </div>\n",
              "  </div>\n",
              "  "
            ],
            "text/plain": [
              "  district_name  inhabitants_number  ...  median_age  client_ratio\n",
              "0       Benesov               88884  ...        39.5      0.051753\n",
              "1        Beroun               75232  ...        42.0      0.083741\n",
              "2       Blansko              107911  ...        38.0      0.052821\n",
              "3       Breclav              124605  ...        40.5      0.043337\n",
              "4  Brno - mesto              387570  ...        41.0      0.039993\n",
              "\n",
              "[5 rows x 7 columns]"
            ]
          },
          "metadata": {},
          "execution_count": 62
        }
      ]
    },
    {
      "cell_type": "code",
      "source": [
        "plt.figure(figsize=(20, 18))\n",
        "x = range(len(district_clients_df['district_name']))\n",
        "\n",
        "# locate the Average salary plot\n",
        "plt.subplot(4,1,1)\n",
        "\n",
        "avg_sal = plt.bar(x, district_clients_df['average salary'])\n",
        "plt.ylabel('Average salary')\n",
        "plt.xticks([],[])\n",
        "\n",
        "# locate the urban_inhabitants_ratio plot\n",
        "plt.subplot(4,1,2)\n",
        "\n",
        "urb_ratio =plt.bar(x, district_clients_df['urban_inhabitants_ratio'])\n",
        "plt.ylabel('% of Urban Inhabitants in all Inhabitants')\n",
        "plt.xticks([],[])\n",
        "\n",
        "# locate the client_ratio plot\n",
        "plt.subplot(4,1,3)\n",
        "\n",
        "pop_ratio =plt.bar(x, district_clients_df['client_ratio'])\n",
        "plt.ylabel('% of Clients in all Inhabitants')\n",
        "plt.xticks([],[])\n",
        "\n",
        "# locate the client_ratio plot\n",
        "plt.subplot(4,1,4)\n",
        "\n",
        "pop_ratio =plt.bar(x, district_clients_df['median_age'])\n",
        "plt.ylabel('Median Age')\n",
        "plt.xticks([],[])\n",
        "\n",
        "\n",
        "plt.xticks(x, district_clients_df['district_name'], rotation='vertical')\n",
        "\n",
        "plt.show()"
      ],
      "metadata": {
        "colab": {
          "base_uri": "https://localhost:8080/",
          "height": 1000
        },
        "id": "TinSJcEI-gAU",
        "outputId": "adc60482-c850-434b-ee95-664a8e90a2b1"
      },
      "execution_count": 63,
      "outputs": [
        {
          "output_type": "display_data",
          "data": {
            "image/png": "[encoded data removed]",
            "text/plain": [
              "<Figure size 1440x1296 with 4 Axes>"
            ]
          },
          "metadata": {
            "needs_background": "light"
          }
        }
      ]
    },
    {
      "cell_type": "markdown",
      "source": [
        "# **Loan**"
      ],
      "metadata": {
        "id": "zOOXhlwXkz-X"
      }
    },
    {
      "cell_type": "code",
      "source": [
        "# Findings:\n",
        "# 1. there's slight tendency that the higher the payment/loan amount, the easier \n",
        "#    loan to be in bad status\n",
        "# 2. the higher amount is positively correlated with longer duration and more payments\n",
        "#    which naturally makes sense\n",
        "\n",
        "loan_df_copy = loan_df.copy()\n",
        "loan_df_copy = loan_df_copy.drop(columns=['loan_id', 'account_id', 'date'])\n",
        "seaborn.heatmap(loan_df_copy.corr(), annot=True)"
      ],
      "metadata": {
        "colab": {
          "base_uri": "https://localhost:8080/",
          "height": 287
        },
        "id": "3ToEv87wk3Pf",
        "outputId": "573384d0-e6e9-49e0-96bb-4726e8357193"
      },
      "execution_count": 142,
      "outputs": [
        {
          "output_type": "execute_result",
          "data": {
            "text/plain": [
              "<matplotlib.axes._subplots.AxesSubplot at 0x7fa30d14b150>"
            ]
          },
          "metadata": {},
          "execution_count": 142
        },
        {
          "output_type": "display_data",
          "data": {
            "image/png": "[encoded data removed]",
            "text/plain": [
              "<Figure size 432x288 with 2 Axes>"
            ]
          },
          "metadata": {
            "needs_background": "light"
          }
        }
      ]
    },
    {
      "cell_type": "markdown",
      "source": [
        "# **Permanent Order** "
      ],
      "metadata": {
        "id": "yPBI7gd5cvVC"
      }
    },
    {
      "cell_type": "code",
      "source": [
        "order_df.info()"
      ],
      "metadata": {
        "colab": {
          "base_uri": "https://localhost:8080/"
        },
        "id": "BhCMD-9Gc5en",
        "outputId": "47694937-27b2-420e-ee2d-52bb6f201ae2"
      },
      "execution_count": 144,
      "outputs": [
        {
          "output_type": "stream",
          "name": "stdout",
          "text": [
            "<class 'pandas.core.frame.DataFrame'>\n",
            "RangeIndex: 6471 entries, 0 to 6470\n",
            "Data columns (total 7 columns):\n",
            " #   Column      Non-Null Count  Dtype  \n",
            "---  ------      --------------  -----  \n",
            " 0   order_id    6471 non-null   int64  \n",
            " 1   account_id  6471 non-null   int64  \n",
            " 2   bank_to     6471 non-null   object \n",
            " 3   account_to  6471 non-null   int64  \n",
            " 4   amount      6471 non-null   float64\n",
            " 5   k_symbol    5092 non-null   object \n",
            " 6   purpose     5092 non-null   object \n",
            "dtypes: float64(1), int64(3), object(3)\n",
            "memory usage: 354.0+ KB\n"
          ]
        }
      ]
    },
    {
      "cell_type": "code",
      "source": [
        "order_df.purpose.hist(figsize=(12, 6), bins=12, grid=False)"
      ],
      "metadata": {
        "colab": {
          "base_uri": "https://localhost:8080/",
          "height": 392
        },
        "id": "sFIkzLYIdDHX",
        "outputId": "326fd187-f7bb-4f8a-edbc-d1d0c9739cb8"
      },
      "execution_count": 145,
      "outputs": [
        {
          "output_type": "execute_result",
          "data": {
            "text/plain": [
              "<matplotlib.axes._subplots.AxesSubplot at 0x7fa315a40b10>"
            ]
          },
          "metadata": {},
          "execution_count": 145
        },
        {
          "output_type": "display_data",
          "data": {
            "image/png": "[encoded data removed]",
            "text/plain": [
              "<Figure size 864x432 with 1 Axes>"
            ]
          },
          "metadata": {
            "needs_background": "light"
          }
        }
      ]
    },
    {
      "cell_type": "markdown",
      "source": [
        "# **Transactions** "
      ],
      "metadata": {
        "id": "bszN-gPHUlUH"
      }
    },
    {
      "cell_type": "code",
      "source": [
        "trans_df.info()"
      ],
      "metadata": {
        "colab": {
          "base_uri": "https://localhost:8080/"
        },
        "id": "oyaTzcI5bunc",
        "outputId": "2cb1e751-f835-462e-abda-d9e90bdbaafc"
      },
      "execution_count": 102,
      "outputs": [
        {
          "output_type": "stream",
          "name": "stdout",
          "text": [
            "<class 'pandas.core.frame.DataFrame'>\n",
            "RangeIndex: 1056320 entries, 0 to 1056319\n",
            "Data columns (total 10 columns):\n",
            " #   Column      Non-Null Count    Dtype  \n",
            "---  ------      --------------    -----  \n",
            " 0   trans_id    1056320 non-null  int64  \n",
            " 1   account_id  1056320 non-null  int64  \n",
            " 2   date        1056320 non-null  object \n",
            " 3   type        1056320 non-null  object \n",
            " 4   operation   1056320 non-null  object \n",
            " 5   amount      1056320 non-null  float64\n",
            " 6   balance     1056320 non-null  float64\n",
            " 7   k_symbol    574439 non-null   object \n",
            " 8   bank        273508 non-null   object \n",
            " 9   account     295389 non-null   float64\n",
            "dtypes: float64(3), int64(2), object(5)\n",
            "memory usage: 80.6+ MB\n"
          ]
        }
      ]
    },
    {
      "cell_type": "code",
      "source": [
        "trans_df"
      ],
      "metadata": {
        "colab": {
          "base_uri": "https://localhost:8080/",
          "height": 424
        },
        "id": "nVqwsTvZcMWo",
        "outputId": "b422ab28-94c1-4f5c-f21a-f6f2475c069a"
      },
      "execution_count": 106,
      "outputs": [
        {
          "output_type": "execute_result",
          "data": {
            "text/html": [
              "\n",
              "  <div id=\"df-17e0c994-073a-492a-afa3-bc508ca9881d\">\n",
              "    <div class=\"colab-df-container\">\n",
              "      <div>\n",
              "<style scoped>\n",
              "    .dataframe tbody tr th:only-of-type {\n",
              "        vertical-align: middle;\n",
              "    }\n",
              "\n",
              "    .dataframe tbody tr th {\n",
              "        vertical-align: top;\n",
              "    }\n",
              "\n",
              "    .dataframe thead th {\n",
              "        text-align: right;\n",
              "    }\n",
              "</style>\n",
              "<table border=\"1\" class=\"dataframe\">\n",
              "  <thead>\n",
              "    <tr style=\"text-align: right;\">\n",
              "      <th></th>\n",
              "      <th>trans_id</th>\n",
              "      <th>account_id</th>\n",
              "      <th>date</th>\n",
              "      <th>type</th>\n",
              "      <th>operation</th>\n",
              "      <th>amount</th>\n",
              "      <th>balance</th>\n",
              "      <th>k_symbol</th>\n",
              "      <th>bank</th>\n",
              "      <th>account</th>\n",
              "    </tr>\n",
              "  </thead>\n",
              "  <tbody>\n",
              "    <tr>\n",
              "      <th>0</th>\n",
              "      <td>695247</td>\n",
              "      <td>2378</td>\n",
              "      <td>1993-01-01</td>\n",
              "      <td>credit</td>\n",
              "      <td>deposit</td>\n",
              "      <td>700.0</td>\n",
              "      <td>700.0</td>\n",
              "      <td>NaN</td>\n",
              "      <td>NaN</td>\n",
              "      <td>NaN</td>\n",
              "    </tr>\n",
              "    <tr>\n",
              "      <th>1</th>\n",
              "      <td>171812</td>\n",
              "      <td>576</td>\n",
              "      <td>1993-01-01</td>\n",
              "      <td>credit</td>\n",
              "      <td>deposit</td>\n",
              "      <td>900.0</td>\n",
              "      <td>900.0</td>\n",
              "      <td>NaN</td>\n",
              "      <td>NaN</td>\n",
              "      <td>NaN</td>\n",
              "    </tr>\n",
              "    <tr>\n",
              "      <th>2</th>\n",
              "      <td>207264</td>\n",
              "      <td>704</td>\n",
              "      <td>1993-01-01</td>\n",
              "      <td>credit</td>\n",
              "      <td>deposit</td>\n",
              "      <td>1000.0</td>\n",
              "      <td>1000.0</td>\n",
              "      <td>NaN</td>\n",
              "      <td>NaN</td>\n",
              "      <td>NaN</td>\n",
              "    </tr>\n",
              "    <tr>\n",
              "      <th>3</th>\n",
              "      <td>1117247</td>\n",
              "      <td>3818</td>\n",
              "      <td>1993-01-01</td>\n",
              "      <td>credit</td>\n",
              "      <td>deposit</td>\n",
              "      <td>600.0</td>\n",
              "      <td>600.0</td>\n",
              "      <td>NaN</td>\n",
              "      <td>NaN</td>\n",
              "      <td>NaN</td>\n",
              "    </tr>\n",
              "    <tr>\n",
              "      <th>4</th>\n",
              "      <td>579373</td>\n",
              "      <td>1972</td>\n",
              "      <td>1993-01-02</td>\n",
              "      <td>credit</td>\n",
              "      <td>deposit</td>\n",
              "      <td>400.0</td>\n",
              "      <td>400.0</td>\n",
              "      <td>NaN</td>\n",
              "      <td>NaN</td>\n",
              "      <td>NaN</td>\n",
              "    </tr>\n",
              "    <tr>\n",
              "      <th>...</th>\n",
              "      <td>...</td>\n",
              "      <td>...</td>\n",
              "      <td>...</td>\n",
              "      <td>...</td>\n",
              "      <td>...</td>\n",
              "      <td>...</td>\n",
              "      <td>...</td>\n",
              "      <td>...</td>\n",
              "      <td>...</td>\n",
              "      <td>...</td>\n",
              "    </tr>\n",
              "    <tr>\n",
              "      <th>1056315</th>\n",
              "      <td>3626622</td>\n",
              "      <td>2906</td>\n",
              "      <td>1998-12-31</td>\n",
              "      <td>credit</td>\n",
              "      <td>interest_pmt</td>\n",
              "      <td>62.3</td>\n",
              "      <td>13729.4</td>\n",
              "      <td>interest_pmt</td>\n",
              "      <td>NaN</td>\n",
              "      <td>NaN</td>\n",
              "    </tr>\n",
              "    <tr>\n",
              "      <th>1056316</th>\n",
              "      <td>3627616</td>\n",
              "      <td>2935</td>\n",
              "      <td>1998-12-31</td>\n",
              "      <td>credit</td>\n",
              "      <td>interest_pmt</td>\n",
              "      <td>81.3</td>\n",
              "      <td>19544.9</td>\n",
              "      <td>interest_pmt</td>\n",
              "      <td>NaN</td>\n",
              "      <td>NaN</td>\n",
              "    </tr>\n",
              "    <tr>\n",
              "      <th>1056317</th>\n",
              "      <td>3625403</td>\n",
              "      <td>2869</td>\n",
              "      <td>1998-12-31</td>\n",
              "      <td>credit</td>\n",
              "      <td>interest_pmt</td>\n",
              "      <td>60.2</td>\n",
              "      <td>14638.2</td>\n",
              "      <td>interest_pmt</td>\n",
              "      <td>NaN</td>\n",
              "      <td>NaN</td>\n",
              "    </tr>\n",
              "    <tr>\n",
              "      <th>1056318</th>\n",
              "      <td>3626683</td>\n",
              "      <td>2907</td>\n",
              "      <td>1998-12-31</td>\n",
              "      <td>credit</td>\n",
              "      <td>interest_pmt</td>\n",
              "      <td>107.5</td>\n",
              "      <td>23453.0</td>\n",
              "      <td>interest_pmt</td>\n",
              "      <td>NaN</td>\n",
              "      <td>NaN</td>\n",
              "    </tr>\n",
              "    <tr>\n",
              "      <th>1056319</th>\n",
              "      <td>3626540</td>\n",
              "      <td>2902</td>\n",
              "      <td>1998-12-31</td>\n",
              "      <td>credit</td>\n",
              "      <td>interest_pmt</td>\n",
              "      <td>164.1</td>\n",
              "      <td>41642.9</td>\n",
              "      <td>interest_pmt</td>\n",
              "      <td>NaN</td>\n",
              "      <td>NaN</td>\n",
              "    </tr>\n",
              "  </tbody>\n",
              "</table>\n",
              "<p>1056320 rows × 10 columns</p>\n",
              "</div>\n",
              "      <button class=\"colab-df-convert\" onclick=\"convertToInteractive('df-17e0c994-073a-492a-afa3-bc508ca9881d')\"\n",
              "              title=\"Convert this dataframe to an interactive table.\"\n",
              "              style=\"display:none;\">\n",
              "        \n",
              "  <svg xmlns=\"http://www.w3.org/2000/svg\" height=\"24px\"viewBox=\"0 0 24 24\"\n",
              "       width=\"24px\">\n",
              "    <path d=\"M0 0h24v24H0V0z\" fill=\"none\"/>\n",
              "    <path d=\"M18.56 5.44l.94 2.06.94-2.06 2.06-.94-2.06-.94-.94-2.06-.94 2.06-2.06.94zm-11 1L8.5 8.5l.94-2.06 2.06-.94-2.06-.94L8.5 2.5l-.94 2.06-2.06.94zm10 10l.94 2.06.94-2.06 2.06-.94-2.06-.94-.94-2.06-.94 2.06-2.06.94z\"/><path d=\"M17.41 7.96l-1.37-1.37c-.4-.4-.92-.59-1.43-.59-.52 0-1.04.2-1.43.59L10.3 9.45l-7.72 7.72c-.78.78-.78 2.05 0 2.83L4 21.41c.39.39.9.59 1.41.59.51 0 1.02-.2 1.41-.59l7.78-7.78 2.81-2.81c.8-.78.8-2.07 0-2.86zM5.41 20L4 18.59l7.72-7.72 1.47 1.35L5.41 20z\"/>\n",
              "  </svg>\n",
              "      </button>\n",
              "      \n",
              "  <style>\n",
              "    .colab-df-container {\n",
              "      display:flex;\n",
              "      flex-wrap:wrap;\n",
              "      gap: 12px;\n",
              "    }\n",
              "\n",
              "    .colab-df-convert {\n",
              "      background-color: #E8F0FE;\n",
              "      border: none;\n",
              "      border-radius: 50%;\n",
              "      cursor: pointer;\n",
              "      display: none;\n",
              "      fill: #1967D2;\n",
              "      height: 32px;\n",
              "      padding: 0 0 0 0;\n",
              "      width: 32px;\n",
              "    }\n",
              "\n",
              "    .colab-df-convert:hover {\n",
              "      background-color: #E2EBFA;\n",
              "      box-shadow: 0px 1px 2px rgba(60, 64, 67, 0.3), 0px 1px 3px 1px rgba(60, 64, 67, 0.15);\n",
              "      fill: #174EA6;\n",
              "    }\n",
              "\n",
              "    [theme=dark] .colab-df-convert {\n",
              "      background-color: #3B4455;\n",
              "      fill: #D2E3FC;\n",
              "    }\n",
              "\n",
              "    [theme=dark] .colab-df-convert:hover {\n",
              "      background-color: #434B5C;\n",
              "      box-shadow: 0px 1px 3px 1px rgba(0, 0, 0, 0.15);\n",
              "      filter: drop-shadow(0px 1px 2px rgba(0, 0, 0, 0.3));\n",
              "      fill: #FFFFFF;\n",
              "    }\n",
              "  </style>\n",
              "\n",
              "      <script>\n",
              "        const buttonEl =\n",
              "          document.querySelector('#df-17e0c994-073a-492a-afa3-bc508ca9881d button.colab-df-convert');\n",
              "        buttonEl.style.display =\n",
              "          google.colab.kernel.accessAllowed ? 'block' : 'none';\n",
              "\n",
              "        async function convertToInteractive(key) {\n",
              "          const element = document.querySelector('#df-17e0c994-073a-492a-afa3-bc508ca9881d');\n",
              "          const dataTable =\n",
              "            await google.colab.kernel.invokeFunction('convertToInteractive',\n",
              "                                                     [key], {});\n",
              "          if (!dataTable) return;\n",
              "\n",
              "          const docLinkHtml = 'Like what you see? Visit the ' +\n",
              "            '<a target=\"_blank\" href=https://colab.research.google.com/notebooks/data_table.ipynb>data table notebook</a>'\n",
              "            + ' to learn more about interactive tables.';\n",
              "          element.innerHTML = '';\n",
              "          dataTable['output_type'] = 'display_data';\n",
              "          await google.colab.output.renderOutput(dataTable, element);\n",
              "          const docLink = document.createElement('div');\n",
              "          docLink.innerHTML = docLinkHtml;\n",
              "          element.appendChild(docLink);\n",
              "        }\n",
              "      </script>\n",
              "    </div>\n",
              "  </div>\n",
              "  "
            ],
            "text/plain": [
              "         trans_id  account_id        date  ...      k_symbol bank  account\n",
              "0          695247        2378  1993-01-01  ...           NaN  NaN      NaN\n",
              "1          171812         576  1993-01-01  ...           NaN  NaN      NaN\n",
              "2          207264         704  1993-01-01  ...           NaN  NaN      NaN\n",
              "3         1117247        3818  1993-01-01  ...           NaN  NaN      NaN\n",
              "4          579373        1972  1993-01-02  ...           NaN  NaN      NaN\n",
              "...           ...         ...         ...  ...           ...  ...      ...\n",
              "1056315   3626622        2906  1998-12-31  ...  interest_pmt  NaN      NaN\n",
              "1056316   3627616        2935  1998-12-31  ...  interest_pmt  NaN      NaN\n",
              "1056317   3625403        2869  1998-12-31  ...  interest_pmt  NaN      NaN\n",
              "1056318   3626683        2907  1998-12-31  ...  interest_pmt  NaN      NaN\n",
              "1056319   3626540        2902  1998-12-31  ...  interest_pmt  NaN      NaN\n",
              "\n",
              "[1056320 rows x 10 columns]"
            ]
          },
          "metadata": {},
          "execution_count": 106
        }
      ]
    },
    {
      "cell_type": "code",
      "source": [
        "trans_df['operation'].hist(figsize=(12, 6), bins=12, grid=False)"
      ],
      "metadata": {
        "colab": {
          "base_uri": "https://localhost:8080/",
          "height": 392
        },
        "id": "jsNnO5cdyeCH",
        "outputId": "c75705c5-8e54-46b0-a7e3-d72638890b9c"
      },
      "execution_count": 99,
      "outputs": [
        {
          "output_type": "execute_result",
          "data": {
            "text/plain": [
              "<matplotlib.axes._subplots.AxesSubplot at 0x7fa308f08050>"
            ]
          },
          "metadata": {},
          "execution_count": 99
        },
        {
          "output_type": "display_data",
          "data": {
            "image/png": "[encoded data removed]",
            "text/plain": [
              "<Figure size 864x432 with 1 Axes>"
            ]
          },
          "metadata": {
            "needs_background": "light"
          }
        }
      ]
    },
    {
      "cell_type": "code",
      "source": [
        "# the blank bar below represents the NaN values\n",
        "trans_df['k_symbol'].hist(figsize=(16, 6), bins=25, grid=False)"
      ],
      "metadata": {
        "colab": {
          "base_uri": "https://localhost:8080/",
          "height": 388
        },
        "id": "1pdJg4jdb8O9",
        "outputId": "d2527cd2-1e84-4037-86f8-d9899163576f"
      },
      "execution_count": 149,
      "outputs": [
        {
          "output_type": "execute_result",
          "data": {
            "text/plain": [
              "<matplotlib.axes._subplots.AxesSubplot at 0x7fa314de0f90>"
            ]
          },
          "metadata": {},
          "execution_count": 149
        },
        {
          "output_type": "display_data",
          "data": {
            "image/png": "[encoded data removed]",
            "text/plain": [
              "<Figure size 1152x432 with 1 Axes>"
            ]
          },
          "metadata": {
            "needs_background": "light"
          }
        }
      ]
    },
    {
      "cell_type": "markdown",
      "source": [
        "## **Merge DataFrame contains Account Information**"
      ],
      "metadata": {
        "id": "e3MuDdsB9QZb"
      }
    },
    {
      "cell_type": "code",
      "source": [
        "display.Image(\"data_map.png\")"
      ],
      "metadata": {
        "colab": {
          "base_uri": "https://localhost:8080/",
          "height": 315
        },
        "id": "qwhWmoGQkUGZ",
        "outputId": "1a40f5c7-d7d9-4f69-9285-1ca6999f6e9c"
      },
      "execution_count": 137,
      "outputs": [
        {
          "output_type": "execute_result",
          "data": {
            "image/png": "[encoded data removed]",
            "text/plain": [
              "<IPython.core.display.Image object>"
            ]
          },
          "metadata": {},
          "execution_count": 137
        }
      ]
    },
    {
      "cell_type": "code",
      "source": [
        "acc_to_merge = accounts_df.drop(columns=['date', 'district_id'])\n",
        "clients_to_merge = clients_df.drop(columns=['birth_date'])"
      ],
      "metadata": {
        "id": "9nXkCpUqyTfI"
      },
      "execution_count": 190,
      "outputs": []
    },
    {
      "cell_type": "code",
      "source": [
        "# merge Account, Disposition, Client and Demograph table\n",
        "acc_disp = acc_to_merge.merge(dispos_df, on='account_id', how='left', \n",
        "                              validate='one_to_many') \n",
        "acc_disp_client = acc_disp.merge(clients_to_merge, on='client_id', how='left', \n",
        "                              validate='one_to_one')\n",
        "acc_disp_client_demo = acc_disp_client.merge(district_df, on='district_id', how='left', \n",
        "                              validate='many_to_one')"
      ],
      "metadata": {
        "id": "u8Ub8Xzvv6W5"
      },
      "execution_count": 191,
      "outputs": []
    },
    {
      "cell_type": "code",
      "source": [
        "acc_disp_client_demo.to_csv('client_info.csv', index=False)"
      ],
      "metadata": {
        "id": "soiW6cuG2RJV"
      },
      "execution_count": 225,
      "outputs": []
    },
    {
      "cell_type": "code",
      "source": [
        ""
      ],
      "metadata": {
        "id": "DqofoWpLxVVw"
      },
      "execution_count": 182,
      "outputs": []
    },
    {
      "cell_type": "code",
      "source": [
        ""
      ],
      "metadata": {
        "id": "aXSb2uB4yBEc"
      },
      "execution_count": null,
      "outputs": []
    }
  ]
}